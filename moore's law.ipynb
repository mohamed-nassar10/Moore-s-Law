{
  "cells": [
    {
      "cell_type": "code",
      "execution_count": null,
      "metadata": {
        "colab": {},
        "colab_type": "code",
        "id": "qsLqViekTo-d"
      },
      "outputs": [],
      "source": [
        "# inspired by lazyprogrammer\n",
        "\n",
        "import pandas as pd\n",
        "import numpy as np\n",
        "import matplotlib.pyplot as plt\n",
        "\n",
        "\n",
        "\n",
        "import torch\n",
        "import torch.nn as nn\n",
        "\n",
        "\n"
      ]
    },
    {
      "cell_type": "code",
      "execution_count": null,
      "metadata": {
        "colab": {},
        "colab_type": "code",
        "id": "JPNNOW5CZXd3"
      },
      "outputs": [],
      "source": [
        "data = pd.read_csv('moore.csv', header=None).values\n",
        "\n",
        "X = data[:,0].reshape(-1, 1)\n",
        "Y = data[:,1].reshape(-1, 1)"
      ]
    },
    {
      "cell_type": "code",
      "execution_count": null,
      "metadata": {
        "colab": {
          "base_uri": "https://localhost:8080/",
          "height": 293
        },
        "colab_type": "code",
        "id": "1BuaVYUCZZhR",
        "outputId": "ecc57f9e-6ef3-4849-dd2f-e095cd13be43"
      },
      "outputs": [
        {
          "data": {
            "text/plain": [
              "<matplotlib.collections.PathCollection at 0x7fb079f0a588>"
            ]
          },
          "execution_count": 23,
          "metadata": {
            "tags": []
          },
          "output_type": "execute_result"
        },
        {
          "data": {
            "image/png": "[encoded data removed]",
            "text/plain": [
              "<Figure size 432x288 with 1 Axes>"
            ]
          },
          "metadata": {
            "tags": []
          },
          "output_type": "display_data"
        }
      ],
      "source": [
        "plt.scatter(X, Y)"
      ]
    },
    {
      "cell_type": "code",
      "execution_count": null,
      "metadata": {
        "colab": {
          "base_uri": "https://localhost:8080/",
          "height": 265
        },
        "colab_type": "code",
        "id": "Sci4T76UZbct",
        "outputId": "ac4cfbc9-2f8d-4eb5-8072-daa5fd5e277a"
      },
      "outputs": [
        {
          "data": {
            "image/png": "[encoded data removed]",
            "text/plain": [
              "<Figure size 432x288 with 1 Axes>"
            ]
          },
          "metadata": {
            "tags": []
          },
          "output_type": "display_data"
        }
      ],
      "source": [
        "# since it's a linear model, take the log\n",
        "Y = np.log(Y)\n",
        "\n",
        "plt.scatter(X, Y);"
      ]
    },
    {
      "cell_type": "code",
      "execution_count": null,
      "metadata": {
        "colab": {},
        "colab_type": "code",
        "id": "1B8sRXfGZeHj"
      },
      "outputs": [],
      "source": [
        "# scale and center both the x and y axes\n",
        "\n",
        "mx = X.mean()\n",
        "sx = X.std()\n",
        "\n",
        "my = Y.mean()\n",
        "sy = Y.std()\n",
        "\n",
        "\n",
        "X = (X - mx)/sx\n",
        "Y = (Y - my)/sy"
      ]
    },
    {
      "cell_type": "code",
      "execution_count": null,
      "metadata": {
        "colab": {
          "base_uri": "https://localhost:8080/",
          "height": 265
        },
        "colab_type": "code",
        "id": "RD8HrPmexpCq",
        "outputId": "2f384232-88c5-4db9-ab60-4c592e5ae7eb"
      },
      "outputs": [
        {
          "data": {
            "image/png": "[encoded data removed]",
            "text/plain": [
              "<Figure size 432x288 with 1 Axes>"
            ]
          },
          "metadata": {
            "tags": []
          },
          "output_type": "display_data"
        }
      ],
      "source": [
        "plt.scatter(X, Y);"
      ]
    },
    {
      "cell_type": "code",
      "execution_count": null,
      "metadata": {
        "colab": {},
        "colab_type": "code",
        "id": "xw8Nc8QZb_wX"
      },
      "outputs": [],
      "source": [
        "X = X.astype(np.float32)\n",
        "Y = Y.astype(np.float32)"
      ]
    },
    {
      "cell_type": "code",
      "execution_count": null,
      "metadata": {
        "colab": {},
        "colab_type": "code",
        "id": "N2NcT0z5W1Um"
      },
      "outputs": [],
      "source": [
        "model = nn.Linear(1, 1)"
      ]
    },
    {
      "cell_type": "code",
      "execution_count": null,
      "metadata": {
        "colab": {},
        "colab_type": "code",
        "id": "rvZW03cqW6SS"
      },
      "outputs": [],
      "source": [
        "criterion = nn.MSELoss()\n",
        "optimizer = torch.optim.SGD(model.parameters(), lr=0.01, momentum=0.7)"
      ]
    },
    {
      "cell_type": "code",
      "execution_count": null,
      "metadata": {
        "colab": {},
        "colab_type": "code",
        "id": "vPrBVibsaWoj"
      },
      "outputs": [],
      "source": [
        "inputs = torch.from_numpy(X)\n",
        "targets = torch.from_numpy(Y)"
      ]
    },
    {
      "cell_type": "code",
      "execution_count": null,
      "metadata": {
        "colab": {
          "base_uri": "https://localhost:8080/",
          "height": 34
        },
        "colab_type": "code",
        "id": "5Zd0PFWBaanm",
        "outputId": "76be8274-f0a3-411b-dfbb-6d210fb9e6cc"
      },
      "outputs": [
        {
          "data": {
            "text/plain": [
              "torch.Tensor"
            ]
          },
          "execution_count": 60,
          "metadata": {
            "tags": []
          },
          "output_type": "execute_result"
        }
      ],
      "source": [
        "type(inputs)"
      ]
    },
    {
      "cell_type": "code",
      "execution_count": null,
      "metadata": {
        "colab": {
          "base_uri": "https://localhost:8080/",
          "height": 1000
        },
        "colab_type": "code",
        "id": "LnGJqtXSW_eV",
        "outputId": "61f809a9-702d-4d51-dca4-53eebb38c5b2"
      },
      "outputs": [
        {
          "name": "stdout",
          "output_type": "stream",
          "text": [
            "Epoch 1/100, Loss: 0.1387\n",
            "Epoch 2/100, Loss: 0.1347\n",
            "Epoch 3/100, Loss: 0.1282\n",
            "Epoch 4/100, Loss: 0.1204\n",
            "Epoch 5/100, Loss: 0.1119\n",
            "Epoch 6/100, Loss: 0.1035\n",
            "Epoch 7/100, Loss: 0.0955\n",
            "Epoch 8/100, Loss: 0.0880\n",
            "Epoch 9/100, Loss: 0.0812\n",
            "Epoch 10/100, Loss: 0.0752\n",
            "Epoch 11/100, Loss: 0.0698\n",
            "Epoch 12/100, Loss: 0.0652\n",
            "Epoch 13/100, Loss: 0.0612\n",
            "Epoch 14/100, Loss: 0.0577\n",
            "Epoch 15/100, Loss: 0.0547\n",
            "Epoch 16/100, Loss: 0.0522\n",
            "Epoch 17/100, Loss: 0.0500\n",
            "Epoch 18/100, Loss: 0.0482\n",
            "Epoch 19/100, Loss: 0.0467\n",
            "Epoch 20/100, Loss: 0.0454\n",
            "Epoch 21/100, Loss: 0.0443\n",
            "Epoch 22/100, Loss: 0.0433\n",
            "Epoch 23/100, Loss: 0.0425\n",
            "Epoch 24/100, Loss: 0.0419\n",
            "Epoch 25/100, Loss: 0.0413\n",
            "Epoch 26/100, Loss: 0.0409\n",
            "Epoch 27/100, Loss: 0.0405\n",
            "Epoch 28/100, Loss: 0.0402\n",
            "Epoch 29/100, Loss: 0.0399\n",
            "Epoch 30/100, Loss: 0.0397\n",
            "Epoch 31/100, Loss: 0.0395\n",
            "Epoch 32/100, Loss: 0.0393\n",
            "Epoch 33/100, Loss: 0.0392\n",
            "Epoch 34/100, Loss: 0.0391\n",
            "Epoch 35/100, Loss: 0.0390\n",
            "Epoch 36/100, Loss: 0.0389\n",
            "Epoch 37/100, Loss: 0.0388\n",
            "Epoch 38/100, Loss: 0.0388\n",
            "Epoch 39/100, Loss: 0.0387\n",
            "Epoch 40/100, Loss: 0.0387\n",
            "Epoch 41/100, Loss: 0.0386\n",
            "Epoch 42/100, Loss: 0.0386\n",
            "Epoch 43/100, Loss: 0.0386\n",
            "Epoch 44/100, Loss: 0.0386\n",
            "Epoch 45/100, Loss: 0.0386\n",
            "Epoch 46/100, Loss: 0.0385\n",
            "Epoch 47/100, Loss: 0.0385\n",
            "Epoch 48/100, Loss: 0.0385\n",
            "Epoch 49/100, Loss: 0.0385\n",
            "Epoch 50/100, Loss: 0.0385\n",
            "Epoch 51/100, Loss: 0.0385\n",
            "Epoch 52/100, Loss: 0.0385\n",
            "Epoch 53/100, Loss: 0.0385\n",
            "Epoch 54/100, Loss: 0.0385\n",
            "Epoch 55/100, Loss: 0.0385\n",
            "Epoch 56/100, Loss: 0.0385\n",
            "Epoch 57/100, Loss: 0.0385\n",
            "Epoch 58/100, Loss: 0.0385\n",
            "Epoch 59/100, Loss: 0.0385\n",
            "Epoch 60/100, Loss: 0.0385\n",
            "Epoch 61/100, Loss: 0.0385\n",
            "Epoch 62/100, Loss: 0.0385\n",
            "Epoch 63/100, Loss: 0.0385\n",
            "Epoch 64/100, Loss: 0.0385\n",
            "Epoch 65/100, Loss: 0.0385\n",
            "Epoch 66/100, Loss: 0.0385\n",
            "Epoch 67/100, Loss: 0.0385\n",
            "Epoch 68/100, Loss: 0.0385\n",
            "Epoch 69/100, Loss: 0.0385\n",
            "Epoch 70/100, Loss: 0.0385\n",
            "Epoch 71/100, Loss: 0.0385\n",
            "Epoch 72/100, Loss: 0.0385\n",
            "Epoch 73/100, Loss: 0.0385\n",
            "Epoch 74/100, Loss: 0.0385\n",
            "Epoch 75/100, Loss: 0.0385\n",
            "Epoch 76/100, Loss: 0.0385\n",
            "Epoch 77/100, Loss: 0.0385\n",
            "Epoch 78/100, Loss: 0.0385\n",
            "Epoch 79/100, Loss: 0.0385\n",
            "Epoch 80/100, Loss: 0.0385\n",
            "Epoch 81/100, Loss: 0.0385\n",
            "Epoch 82/100, Loss: 0.0385\n",
            "Epoch 83/100, Loss: 0.0385\n",
            "Epoch 84/100, Loss: 0.0385\n",
            "Epoch 85/100, Loss: 0.0385\n",
            "Epoch 86/100, Loss: 0.0385\n",
            "Epoch 87/100, Loss: 0.0385\n",
            "Epoch 88/100, Loss: 0.0385\n",
            "Epoch 89/100, Loss: 0.0385\n",
            "Epoch 90/100, Loss: 0.0385\n",
            "Epoch 91/100, Loss: 0.0385\n",
            "Epoch 92/100, Loss: 0.0385\n",
            "Epoch 93/100, Loss: 0.0385\n",
            "Epoch 94/100, Loss: 0.0385\n",
            "Epoch 95/100, Loss: 0.0385\n",
            "Epoch 96/100, Loss: 0.0385\n",
            "Epoch 97/100, Loss: 0.0385\n",
            "Epoch 98/100, Loss: 0.0385\n",
            "Epoch 99/100, Loss: 0.0385\n",
            "Epoch 100/100, Loss: 0.0385\n"
          ]
        }
      ],
      "source": [
        "n_epochs = 100\n",
        "losses = []\n",
        "\n",
        "for it in range(n_epochs):\n",
        "  optimizer.zero_grad()\n",
        "\n",
        "  outputs = model(inputs)\n",
        "  loss = criterion(outputs, targets)\n",
        "\n",
        "  losses.append(loss.item())\n",
        "    \n",
        "  loss.backward()\n",
        "  optimizer.step()\n",
        "    \n",
        "  print(f'Epoch {it+1}/{n_epochs}, Loss: {loss.item():.4f}')\n",
        "  "
      ]
    },
    {
      "cell_type": "code",
      "execution_count": null,
      "metadata": {
        "colab": {
          "base_uri": "https://localhost:8080/",
          "height": 265
        },
        "colab_type": "code",
        "id": "paYvYiryo3ze",
        "outputId": "3b94e234-2a59-490c-a714-822e59625989"
      },
      "outputs": [
        {
          "data": {
            "image/png": "[encoded data removed]",
            "text/plain": [
              "<Figure size 432x288 with 1 Axes>"
            ]
          },
          "metadata": {
            "tags": []
          },
          "output_type": "display_data"
        }
      ],
      "source": [
        "plt.plot(losses);"
      ]
    },
    {
      "cell_type": "code",
      "execution_count": null,
      "metadata": {
        "colab": {
          "base_uri": "https://localhost:8080/",
          "height": 265
        },
        "colab_type": "code",
        "id": "cQcBiTDSbjRr",
        "outputId": "bffc4e16-dfc7-443b-9f55-6c9d3c30fefb"
      },
      "outputs": [
        {
          "data": {
            "image/png": "[encoded data removed]",
            "text/plain": [
              "<Figure size 432x288 with 1 Axes>"
            ]
          },
          "metadata": {
            "tags": []
          },
          "output_type": "display_data"
        }
      ],
      "source": [
        "predicted = model(torch.from_numpy(X)).detach().numpy()\n",
        "\n",
        "plt.plot(X, Y, 'ro', label='Original data')\n",
        "plt.plot(X, predicted, label='Fitted line')\n",
        "plt.legend()\n",
        "plt.show()"
      ]
    },
    {
      "cell_type": "code",
      "execution_count": null,
      "metadata": {
        "colab": {
          "base_uri": "https://localhost:8080/",
          "height": 34
        },
        "colab_type": "code",
        "id": "HyWDprSQP5ON",
        "outputId": "b7cff439-8272-48ba-d9b4-9d5801c5081d"
      },
      "outputs": [
        {
          "name": "stdout",
          "output_type": "stream",
          "text": [
            "[[0.98055273]]\n"
          ]
        }
      ],
      "source": [
        "w = model.weight.data.numpy()\n",
        "print(w)"
      ]
    },
    {
      "cell_type": "code",
      "execution_count": null,
      "metadata": {
        "colab": {
          "base_uri": "https://localhost:8080/",
          "height": 34
        },
        "colab_type": "code",
        "id": "J4aVPrKZJ_U3",
        "outputId": "6c8f44f9-7c4c-4509-8d1c-2a7ba6800644"
      },
      "outputs": [
        {
          "name": "stdout",
          "output_type": "stream",
          "text": [
            "0.3416760792975696\n"
          ]
        }
      ],
      "source": [
        "a = w[0,0] * sy / sx\n",
        "print(a)"
      ]
    },
    {
      "cell_type": "code",
      "execution_count": null,
      "metadata": {
        "colab": {
          "base_uri": "https://localhost:8080/",
          "height": 34
        },
        "colab_type": "code",
        "id": "wLu3cW34LzHH",
        "outputId": "0dd3340e-cfaa-4e31-fdf0-347162831a9c"
      },
      "outputs": [
        {
          "name": "stdout",
          "output_type": "stream",
          "text": [
            "Time to double: 2.028667567202665\n"
          ]
        }
      ],
      "source": [
        "print(\"Time to double:\", np.log(2) / a)"
      ]
    }
  ],
  "metadata": {
    "accelerator": "GPU",
    "colab": {
      "name": "PyTorch Regression (Moore's Law).ipynb",
      "provenance": []
    },
    "kernelspec": {
      "display_name": "Python 3",
      "name": "python3"
    }
  },
  "nbformat": 4,
  "nbformat_minor": 0
}
